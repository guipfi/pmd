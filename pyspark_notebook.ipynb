{
 "cells": [
  {
   "cell_type": "code",
   "execution_count": 1,
   "id": "55fd4441",
   "metadata": {},
   "outputs": [],
   "source": [
    "import findspark\n",
    "findspark.init()\n",
    "\n",
    "from pyspark import HiveContext\n",
    "\n",
    "from pyspark.sql import SparkSession\n",
    "spark = SparkSession \\\n",
    "    .builder \\\n",
    "    .appName(\"myApp\") \\\n",
    "    .enableHiveSupport() \\\n",
    "    .getOrCreate()\n",
    "\n",
    "hiveContext = HiveContext(spark.sparkContext)"
   ]
  },
  {
   "cell_type": "code",
   "execution_count": 2,
   "id": "971efecf",
   "metadata": {},
   "outputs": [
    {
     "name": "stdout",
     "output_type": "stream",
     "text": [
      "+---------+\n",
      "|namespace|\n",
      "+---------+\n",
      "|  default|\n",
      "|    sales|\n",
      "+---------+\n",
      "\n"
     ]
    }
   ],
   "source": [
    "# Mostra as databases existentes no hive\n",
    "hiveContext.sql(\"SHOW DATABASES\").show()"
   ]
  },
  {
   "cell_type": "code",
   "execution_count": 3,
   "id": "a2855e22",
   "metadata": {},
   "outputs": [
    {
     "name": "stdout",
     "output_type": "stream",
     "text": [
      "root\n",
      " |-- marketplace: string (nullable = true)\n",
      " |-- customer_id: string (nullable = true)\n",
      " |-- review_id: string (nullable = true)\n",
      " |-- product_id: string (nullable = true)\n",
      " |-- product_parent: string (nullable = true)\n",
      " |-- product_title: string (nullable = true)\n",
      " |-- product_category: string (nullable = true)\n",
      " |-- star_rating: string (nullable = true)\n",
      " |-- helpful_votes: string (nullable = true)\n",
      " |-- total_votes: string (nullable = true)\n",
      " |-- vine: string (nullable = true)\n",
      " |-- verified_purchase: string (nullable = true)\n",
      " |-- review_headline: string (nullable = true)\n",
      " |-- review_body: string (nullable = true)\n",
      " |-- review_date: string (nullable = true)\n",
      "\n"
     ]
    }
   ],
   "source": [
    "# Carregando todos os dados\n",
    "df = spark.read.csv(\"../amazon_reviews_us_PC_v1_00.tsv\", sep=r'\\t', header=True)\n",
    "df.createOrReplaceTempView(\"temp\")\n",
    "df.printSchema()"
   ]
  },
  {
   "cell_type": "markdown",
   "id": "d81eeb01",
   "metadata": {},
   "source": [
    "# Criando a tabela de avaliações"
   ]
  },
  {
   "cell_type": "code",
   "execution_count": 4,
   "id": "905daa75",
   "metadata": {},
   "outputs": [
    {
     "name": "stdout",
     "output_type": "stream",
     "text": [
      "+-----------+--------------+----------+-----------+\n",
      "|customer_id|     review_id|product_id|star_rating|\n",
      "+-----------+--------------+----------+-----------+\n",
      "|   22873041|R3ARRMDEGED8RD|B00KJWQIIC|          5|\n",
      "|   30088427| RQ28TSA020Y6J|B013ALA9LA|          5|\n",
      "|   20329786| RUXJRZCT6953M|B00PML2GQ8|          1|\n",
      "|   14215710| R7EO0UO6BPB71|B001NS0OZ4|          1|\n",
      "|   38264512|R39NJY2YJ1JFSV|B00AQMTND2|          5|\n",
      "|   30548466|R31SR7REWNX7CF|B00KX4TORI|          5|\n",
      "|     589298| RVBP8I1R0CTZ8|B00P17WEMY|          3|\n",
      "|   49329488|R1QF6RS1PDLU18|B00TR05L9Y|          4|\n",
      "|   50728290|R23AICGEDAJQL1|B0098Y77OG|          1|\n",
      "|   37802374|R2EY3N4K9W19UP|B00IFYEYXC|          5|\n",
      "|   52027882| RC9AW4HKJ016M|B0091ITP0S|          1|\n",
      "|   41770239|R2ALWJE9N6ZBXD|B008I21EA2|          1|\n",
      "|   42560427|R2G5FPA4OX37GV|B00MRB7SBO|          5|\n",
      "|   46345923|R1IKTSEVXSIMOD|B00LLER2CS|          5|\n",
      "|   41751192|R2YA6G6SRFEWF6|B00B0CQCCC|          1|\n",
      "|   21176481| RS9H1N9I3Z1IA|B00GU8W5AE|          5|\n",
      "|   10674058| RKKLBI76VTDNT|B00XHMXJQ0|          1|\n",
      "|   43341796|R2NJ3WFUS4E5G6|B00YGJJQ6U|          4|\n",
      "|   13232866|R21PTQNLGCBN0I|B00XMN20Y6|          5|\n",
      "|   29333557|R3G4RT3EQ9RSY7|B00MA40W9I|          1|\n",
      "+-----------+--------------+----------+-----------+\n",
      "only showing top 20 rows\n",
      "\n"
     ]
    }
   ],
   "source": [
    "# Review table\n",
    "## customer_id\n",
    "## review_id\n",
    "## product_id\n",
    "## star_rating\n",
    "reviewsTable = spark.sql(\"SELECT customer_id, review_id, product_id, star_rating FROM temp\")\n",
    "\n",
    "# Versão inicial da Review Table sem as transformações\n",
    "reviewsTable.show()"
   ]
  },
  {
   "cell_type": "markdown",
   "id": "4492a209",
   "metadata": {},
   "source": [
    "# Calculando média e medianas de estrelas - Contando o número de avaliações por produto"
   ]
  },
  {
   "cell_type": "code",
   "execution_count": 5,
   "id": "2e13b43d",
   "metadata": {},
   "outputs": [
    {
     "name": "stdout",
     "output_type": "stream",
     "text": [
      "+----------+-----------+------------------+-------------+\n",
      "|product_id|star_median|      star_average|total_reviews|\n",
      "+----------+-----------+------------------+-------------+\n",
      "|9875987018|        4.0|               4.5|            2|\n",
      "|9966285946|        5.0|               5.0|            1|\n",
      "|9966694242|        5.0|               4.6|           10|\n",
      "|9967222247|        5.0|               5.0|            3|\n",
      "|9985538803|        5.0|               5.0|            1|\n",
      "|9985725344|        5.0|               5.0|            1|\n",
      "|9989476071|        5.0|               5.0|            1|\n",
      "|9990950369|        2.0|               2.0|            1|\n",
      "|B00000J3SV|        1.0|               3.0|            2|\n",
      "|B00000JBK6|        5.0| 4.153846153846154|           13|\n",
      "|B00002S73F|        5.0|               3.7|           10|\n",
      "|B00004VV4B|        5.0|               5.0|            1|\n",
      "|B00004YNSK|        5.0|               4.5|            8|\n",
      "|B00004Z7BU|        5.0|               5.0|            1|\n",
      "|B00005045V|        3.0|3.1666666666666665|           12|\n",
      "|B000051156|        1.0|               3.0|            2|\n",
      "|B0000511IB|        3.0|               3.0|            1|\n",
      "|B0000511K8|        1.0|               1.0|            1|\n",
      "|B0000512S1|        3.0|               3.0|            1|\n",
      "|B00005853W|        5.0|3.9545454545454546|           22|\n",
      "+----------+-----------+------------------+-------------+\n",
      "only showing top 20 rows\n",
      "\n"
     ]
    }
   ],
   "source": [
    "# Product table\n",
    "## product_id\n",
    "## product_title\n",
    "## star_avg (CRIAR)\n",
    "## star_median (CRIAR)\n",
    "## total_reviews (CRIAR)\n",
    "\n",
    "# Calcular número total de avaliações por produto\n",
    "# Calcular média de estrelas por produto\n",
    "# Calcular mediana de estrelas por produto\n",
    "\n",
    "productInfos = spark.sql(\"SELECT product_id, percentile_approx(star_rating, 0.5) as star_median, \\\n",
    "avg(star_rating) as star_average, count(product_id) as total_reviews FROM temp GROUP BY product_id\")\n",
    "productInfos.createOrReplaceTempView(\"products\")\n",
    "\n",
    "# Versão inicial da tabela de produtos, ainda com produtos duplicados.\n",
    "productInfos.show()"
   ]
  },
  {
   "cell_type": "markdown",
   "id": "baa7e011",
   "metadata": {},
   "source": [
    "# Removendo linhas duplicadas"
   ]
  },
  {
   "cell_type": "code",
   "execution_count": 6,
   "id": "1522c89c",
   "metadata": {},
   "outputs": [
    {
     "name": "stdout",
     "output_type": "stream",
     "text": [
      "+----------+--------------------+-----------+------------------+-------------+\n",
      "|product_id|       product_title|star_median|      star_average|total_reviews|\n",
      "+----------+--------------------+-----------+------------------+-------------+\n",
      "|9875987018|Professional Ultr...|        4.0|               4.5|            2|\n",
      "|9966285946|Professional King...|        5.0|               5.0|            1|\n",
      "|9966694242|Professional King...|        5.0|               4.6|           10|\n",
      "|9967222247|Professional King...|        5.0|               5.0|            3|\n",
      "|9985538803|Samsung Galaxy St...|        5.0|               5.0|            1|\n",
      "|9985725344|Professional King...|        5.0|               5.0|            1|\n",
      "|9989476071|Professional King...|        5.0|               5.0|            1|\n",
      "|9990950369|Samsung SGH-i780 ...|        2.0|               2.0|            1|\n",
      "|B00000J3SV|Intel ICS2USB Cre...|        1.0|               3.0|            2|\n",
      "|B00000JBK6|    ALTEC ACS SERIES|        5.0| 4.153846153846154|           13|\n",
      "|B00002S73F|Guillemot Maxi So...|        5.0|               3.7|           10|\n",
      "|B00004VV4B|Viking MN1664P 12...|        5.0|               5.0|            1|\n",
      "|B00004YNSK|Sony CPD-E400 19\"...|        5.0|               4.5|            8|\n",
      "|B00004Z7BU|Netgear FE104 100...|        5.0|               5.0|            1|\n",
      "|B00005045V|Ricoh 12x10x32 CD...|        3.0|3.1666666666666665|           12|\n",
      "|B000051156|AT&T Anti-Static ...|        1.0|               3.0|            2|\n",
      "|B0000511IB|Thinkpad TP56850T...|        3.0|               3.0|            1|\n",
      "|B0000511K8|C2G/Cables to Go ...|        1.0|               1.0|            1|\n",
      "|B0000512S1|Allied Telesyn Ce...|        3.0|               3.0|            1|\n",
      "|B00005853W|Microsoft Wheel M...|        5.0|3.9545454545454546|           22|\n",
      "+----------+--------------------+-----------+------------------+-------------+\n",
      "only showing top 20 rows\n",
      "\n"
     ]
    }
   ],
   "source": [
    "# Removendo os produtos duplicados\n",
    "## Em testes foi verificado que o produto com ID = B0049SIJ7K está duplicado duplicado\n",
    "productNames = spark.sql(\"SELECT DISTINCT product_id, product_title FROM temp\")\n",
    "productNames = productNames.dropDuplicates([\"product_id\"])\n",
    "productTable = productNames.join(productInfos, 'product_id')\n",
    "productTable.show()\n",
    "productTable.createOrReplaceTempView(\"products\")"
   ]
  },
  {
   "cell_type": "code",
   "execution_count": 7,
   "id": "b4af2d26",
   "metadata": {},
   "outputs": [
    {
     "name": "stdout",
     "output_type": "stream",
     "text": [
      "+-----------+--------------+----------+-----------+\n",
      "|customer_id|     review_id|product_id|star_rating|\n",
      "+-----------+--------------+----------+-----------+\n",
      "|   10001434|R15PWB2RWMDYY0|B0028QQC0Q|          1|\n",
      "|   10002051|R2FV71G5DAQK2V|B0069ASUBQ|          3|\n",
      "|   10002342|R2X44EUDV89CD0|B00CXAFG72|          5|\n",
      "|   10002911|R2I3W2ZQ7WDNR1|B00HKEI3EY|          5|\n",
      "|   10003679|R3PPUM8GC0P4VV|B00A1AK6EE|          4|\n",
      "|   10003897| RU1J6AWUQDH8A|B000SR120M|          5|\n",
      "|   10004084|R355XMTXY1GOQF|B001SH2AVQ|          5|\n",
      "|   10004974|R236IN0TMKW8F9|B007PTCFFW|          1|\n",
      "|   10006218|R3OJNQVUXB39PW|B00A1EDRR8|          5|\n",
      "|   10006371|R1M16Q84UAFF6L|B00WBCBPDQ|          4|\n",
      "|   10006579|R1VUBMDCR5R9ZS|B000GP844S|          5|\n",
      "|   10007900|R1Q864KE8JGKUZ|B002VJJMSO|          5|\n",
      "|   10008642| RKIHY06FGFBFU|B007C0Y8PY|          5|\n",
      "|   10008821|R3RBBU21WYULB1|B0002K6RK0|          5|\n",
      "|   10010828|R3BQA6G9M6GNYV|B000GHXTBO|          5|\n",
      "|   10011267|R14OH1P4LDYMF0|B00HAHFQL4|          5|\n",
      "|    1001155|R3U5QAC3Z2HX20|B00JRQCNGW|          5|\n",
      "|   10011741|R1MMKZCKE7D47E|B004EWEZM4|          5|\n",
      "|   10011863|R2BWQGN4LWCH11|B005GWQRWM|          3|\n",
      "|   10011948|R2JFTA0IDU7ICZ|B00IIJ6W4S|          1|\n",
      "+-----------+--------------+----------+-----------+\n",
      "only showing top 20 rows\n",
      "\n"
     ]
    }
   ],
   "source": [
    "# Removendo as reviews duplicadas\n",
    "## Em testes foram encontradas 1764 reviews duplicadas\n",
    "reviewsTable = reviewsTable.dropDuplicates([\"customer_id\", \"product_id\", \"star_rating\"])\n",
    "reviewsTable.show()"
   ]
  },
  {
   "cell_type": "markdown",
   "id": "81374ffd",
   "metadata": {},
   "source": [
    "# Salvando os dataframes no Hive"
   ]
  },
  {
   "cell_type": "code",
   "execution_count": 12,
   "id": "c3868101",
   "metadata": {},
   "outputs": [],
   "source": [
    "reviewsTable.write.mode(\"overwrite\").saveAsTable(\"sales.user_reviews\")\n",
    "productTable.write.mode(\"overwrite\").saveAsTable(\"sales.products\")"
   ]
  },
  {
   "cell_type": "markdown",
   "id": "f9ef5c4d",
   "metadata": {},
   "source": [
    "# Consulta 1 - Retornar os produtos mais avaliados"
   ]
  },
  {
   "cell_type": "code",
   "execution_count": 25,
   "id": "772fc90f",
   "metadata": {},
   "outputs": [
    {
     "name": "stdout",
     "output_type": "stream",
     "text": [
      "+----------+--------------------+-----------+------------------+-------------+\n",
      "|product_id|       product_title|star_median|      star_average|total_reviews|\n",
      "+----------+--------------------+-----------+------------------+-------------+\n",
      "|B0051VVOB2|Kindle Fire (Prev...|        5.0|               4.0|        23313|\n",
      "|B00JG8GOWU|Kindle Paperwhite...|        5.0| 4.555773955773955|        18315|\n",
      "|B00BWYQ9YE|Kindle Fire HDX 7...|        5.0|  4.32381292395573|        16806|\n",
      "|B006GWO5WK|Amazon Kindle 9W ...|        5.0| 4.308609693877551|        15680|\n",
      "|B002Y27P3M|Kindle Keyboard, ...|        5.0| 4.440416946872898|        14870|\n",
      "|B0083PWAPW|Kindle Fire HD 7\"...|        5.0|4.1922288992078665|        14644|\n",
      "|B00IKPYKWG|Fire HD 7, 7\" HD ...|        5.0| 4.252794214332676|        12168|\n",
      "|B00AWH595M|Kindle Paperwhite...|        5.0| 4.543020861312562|        11169|\n",
      "|B00I15SB16|Kindle, 6\" Glare-...|        5.0| 4.198477751756441|        10248|\n",
      "|B0015T963C|Kindle Wireless R...|        5.0| 4.416483735781282|        10022|\n",
      "|B007HCCNJU|Kindle, 6\" E Ink ...|        5.0|   4.3284871899146|         9836|\n",
      "|B0083Q04IQ|Kindle Fire (Prev...|        5.0| 4.163847021429304|         9753|\n",
      "|B007OZNZG0|Kindle Paperwhite...|        5.0| 4.381176224798914|         9573|\n",
      "|B00J46VVKE|iXCC Multi pack L...|        5.0| 4.301817029368265|         9466|\n",
      "|B00CU0NSCU|Kindle Fire HD 7\"...|        5.0| 4.176445578231292|         9408|\n",
      "|B004XC6GJ0|ARRIS SURFboard D...|        5.0| 4.493818910791847|         8979|\n",
      "|B00KC6I06S|           Fire HD 6|        5.0| 4.233506643558637|         8655|\n",
      "|B002FQJT3Q|Kindle Keyboard 3...|        5.0| 4.508652946679139|         8552|\n",
      "|B0087NZ31S|Securifi Almond -...|        5.0| 4.511518570756935|         8508|\n",
      "|B000FI73MA|Kindle: Amazon's ...|        5.0| 4.223062381852552|         7935|\n",
      "+----------+--------------------+-----------+------------------+-------------+\n",
      "only showing top 20 rows\n",
      "\n"
     ]
    }
   ],
   "source": [
    "consulta1 = hiveContext.sql(\"SELECT * FROM sales.products ORDER BY total_reviews DESC\")\n",
    "consulta1.show()"
   ]
  },
  {
   "cell_type": "markdown",
   "id": "b66a00b5",
   "metadata": {},
   "source": [
    "# Consulta 2 - Retornar os produtos com melhor média de avaliação a partir do número de avaliações"
   ]
  },
  {
   "cell_type": "code",
   "execution_count": 21,
   "id": "714c5c0d",
   "metadata": {},
   "outputs": [
    {
     "name": "stdout",
     "output_type": "stream",
     "text": [
      "+----------+--------------------+-----------+------------+-------------+\n",
      "|product_id|       product_title|star_median|star_average|total_reviews|\n",
      "+----------+--------------------+-----------+------------+-------------+\n",
      "|B001670JES|Sony 16GB Memory ...|        5.0|         5.0|            3|\n",
      "|B004QDRU64|Boxed Intel H61 M...|        5.0|         5.0|            3|\n",
      "|B001SH5OHI|CaseCrown Durable...|        5.0|         5.0|            4|\n",
      "|9967222247|Professional King...|        5.0|         5.0|            3|\n",
      "|B00284AM9U|Hitachi Travelsta...|        5.0|         5.0|            3|\n",
      "|B00006B6TF|Antec TruePower 5...|        5.0|         5.0|            4|\n",
      "|B002ATBNQO|Incipio TriFold N...|        5.0|         5.0|            3|\n",
      "|B00006B870|3.5in 1.44MB Mult...|        5.0|         5.0|            3|\n",
      "|B004MT6324|TOP CASE - Silico...|        5.0|         5.0|            3|\n",
      "|B000E391MQ|M-Audio Audiophil...|        5.0|         5.0|            5|\n",
      "|B000HLYLT8|Sony VAIO VGN-FE7...|        5.0|         5.0|            3|\n",
      "|B004FM7ER6|KEEBOX SGE08 8-Po...|        5.0|         5.0|            9|\n",
      "|B00170VXC6|Samsung SyncMaste...|        5.0|         5.0|            6|\n",
      "|B000VEMNAU|Addonics 5X1 eSAT...|        5.0|         5.0|            3|\n",
      "|B003UIY2OO|500GB 2.5\" SATA H...|        5.0|         5.0|            3|\n",
      "|B000M0HUVA|Kingston Technolo...|        5.0|         5.0|            4|\n",
      "|B00430G0N4|Quiet Time Design...|        5.0|         5.0|            4|\n",
      "|B004IA95P4|USB 2.0 to IDE SA...|        5.0|         5.0|            4|\n",
      "|B00494G6GA|Tuff-Luv Multi-Vi...|        5.0|         5.0|            3|\n",
      "|B00140AHR6|Sony VAIO  VGN-CR...|        5.0|         5.0|            3|\n",
      "+----------+--------------------+-----------+------------+-------------+\n",
      "only showing top 20 rows\n",
      "\n"
     ]
    }
   ],
   "source": [
    "min_reviews = 3\n",
    "consulta2 = hiveContext.sql(\"SELECT * FROM sales.products WHERE total_reviews >= {} \\\n",
    "ORDER BY star_average DESC\".format(min_reviews))\n",
    "consulta2.show()"
   ]
  },
  {
   "cell_type": "code",
   "execution_count": 23,
   "id": "e7cb1bc3",
   "metadata": {},
   "outputs": [
    {
     "name": "stdout",
     "output_type": "stream",
     "text": [
      "+----------+--------------------+-----------+------------+-------------+\n",
      "|product_id|       product_title|star_median|star_average|total_reviews|\n",
      "+----------+--------------------+-----------+------------+-------------+\n",
      "|B003DR4X50|Marware Sport Gri...|        5.0|         5.0|            3|\n",
      "|B007NG4LPY|9.7\" 10\" 10.1\" 10...|        5.0|         5.0|            3|\n",
      "|B000UQ5MD4|Sumdex Fashion Pl...|        5.0|         5.0|            5|\n",
      "|B00115U2UQ|1GB 800Mhz DDR2 P...|        5.0|         5.0|            3|\n",
      "|B0001CWI2A|Sony VAIO PCV-RZ5...|        5.0|         5.0|            3|\n",
      "|B003U8K4E6|Laptop/Notebook B...|        5.0|         5.0|            3|\n",
      "|B000A0RIHS|VARTA CR2032 Equi...|        5.0|         5.0|            4|\n",
      "|B003YEYMP8|Bear Motion ® Lux...|        5.0|         5.0|            4|\n",
      "|B000IE5W7Y|HP RC465AA USB Ke...|        5.0|         5.0|           10|\n",
      "|B0041LN94I|PrimoFlex Pro LRT...|        5.0|         5.0|            3|\n",
      "|B001P2EUYE|HQRP 15V 90W Lapt...|        5.0|         5.0|            3|\n",
      "|B004FN7QJ6|Dell Dimension 23...|        5.0|         5.0|            4|\n",
      "|B002TN0312|Extended Performa...|        5.0|         5.0|            3|\n",
      "|B004K9YU2Q|32MB Flash Memory...|        5.0|         5.0|            4|\n",
      "|B002XE1RHQ|Samsung 4GB PC3-8...|        5.0|         5.0|            6|\n",
      "|B0055UFC5I|dCables Fuji Fine...|        5.0|         5.0|            6|\n",
      "|B007L672U2|HDE Orange Rotati...|        5.0|         5.0|            3|\n",
      "|B005JKSE5Y|Olympus FE-46 Dig...|        5.0|         5.0|            4|\n",
      "|B000E59I18|LaCie 301092U 320...|        5.0|         5.0|            5|\n",
      "|B005O70CPW|Cover-Up Asus Eee...|        5.0|         5.0|            3|\n",
      "+----------+--------------------+-----------+------------+-------------+\n",
      "only showing top 20 rows\n",
      "\n"
     ]
    }
   ],
   "source": [
    "min_reviews = 3\n",
    "consulta2 = hiveContext.sql(\"SELECT * FROM sales.products WHERE total_reviews >= {} \\\n",
    "ORDER BY star_average DESC\".format(min_reviews))\n",
    "consulta2.show()"
   ]
  },
  {
   "cell_type": "markdown",
   "id": "237cf33a",
   "metadata": {},
   "source": [
    "# Consulta 3 - Retornar os consumidores que mais avaliaram produtos "
   ]
  },
  {
   "cell_type": "code",
   "execution_count": 20,
   "id": "d1a0315b",
   "metadata": {},
   "outputs": [
    {
     "name": "stdout",
     "output_type": "stream",
     "text": [
      "+-----------+-------------+\n",
      "|customer_id|count_reviews|\n",
      "+-----------+-------------+\n",
      "|   17957446|          458|\n",
      "|   44834233|          442|\n",
      "|   52938899|          366|\n",
      "|   45664110|          275|\n",
      "|   49452274|          261|\n",
      "|   50820654|          256|\n",
      "|   45070473|          251|\n",
      "|   12200139|          251|\n",
      "|   32038204|          241|\n",
      "|   49266466|          240|\n",
      "|   39789300|          236|\n",
      "|   43856165|          228|\n",
      "|   29863275|          226|\n",
      "|   52859210|          225|\n",
      "|   52340667|          222|\n",
      "|   50027179|          217|\n",
      "|   53037408|          213|\n",
      "|   52690060|          211|\n",
      "|   51346302|          209|\n",
      "|   52318215|          195|\n",
      "+-----------+-------------+\n",
      "only showing top 20 rows\n",
      "\n"
     ]
    }
   ],
   "source": [
    "consulta3 = hiveContext.sql(\"SELECT customer_id, count(customer_id) as \\\n",
    "count_reviews FROM sales.user_reviews GROUP BY customer_id ORDER BY count(customer_id) DESC\")\n",
    "consulta3.show()"
   ]
  },
  {
   "cell_type": "markdown",
   "id": "e5874d13",
   "metadata": {},
   "source": [
    "# Consulta 4 - Retornar média de estrelas das marcas presentes no sistema"
   ]
  },
  {
   "cell_type": "code",
   "execution_count": 38,
   "id": "49f21207",
   "metadata": {},
   "outputs": [
    {
     "name": "stdout",
     "output_type": "stream",
     "text": [
      "Collecting pandas\n",
      "  Downloading https://files.pythonhosted.org/packages/c3/e2/00cacecafbab071c787019f00ad84ca3185952f6bb9bca9550ed83870d4d/pandas-1.1.5-cp36-cp36m-manylinux1_x86_64.whl (9.5MB)\n",
      "\u001b[K    100% |████████████████████████████████| 9.5MB 4.0kB/s eta 0:00:01��████████████████████▋   | 8.5MB 30.8MB/s eta 0:00:01\n",
      "\u001b[?25hCollecting pytz>=2017.2 (from pandas)\n",
      "  Using cached https://files.pythonhosted.org/packages/d3/e3/d9f046b5d1c94a3aeab15f1f867aa414f8ee9d196fae6865f1d6a0ee1a0b/pytz-2021.3-py2.py3-none-any.whl\n",
      "Collecting python-dateutil>=2.7.3 (from pandas)\n",
      "  Using cached https://files.pythonhosted.org/packages/36/7a/87837f39d0296e723bb9b62bbb257d0355c7f6128853c78955f57342a56d/python_dateutil-2.8.2-py2.py3-none-any.whl\n",
      "Collecting numpy>=1.15.4 (from pandas)\n",
      "  Downloading https://files.pythonhosted.org/packages/45/b2/6c7545bb7a38754d63048c7696804a0d947328125d81bf12beaa692c3ae3/numpy-1.19.5-cp36-cp36m-manylinux1_x86_64.whl (13.4MB)\n",
      "\u001b[K    100% |████████████████████████████████| 13.4MB 6.6kB/s ta 0:00:011 6% |██▏                             | 890kB 305kB/s eta 0:00:41\n",
      "\u001b[?25hCollecting six>=1.5 (from python-dateutil>=2.7.3->pandas)\n",
      "  Using cached https://files.pythonhosted.org/packages/d9/5a/e7c31adbe875f2abbb91bd84cf2dc52d792b5a01506781dbcf25c91daf11/six-1.16.0-py2.py3-none-any.whl\n",
      "Installing collected packages: pytz, six, python-dateutil, numpy, pandas\n",
      "Successfully installed numpy-1.19.5 pandas-1.1.5 python-dateutil-2.8.2 pytz-2021.3 six-1.16.0\n"
     ]
    }
   ],
   "source": [
    "! pip3 install pandas"
   ]
  },
  {
   "cell_type": "code",
   "execution_count": 39,
   "id": "c91664a8",
   "metadata": {},
   "outputs": [],
   "source": [
    "import pandas\n",
    "\n",
    "marcas = [\"apple\", \"microsoft\", \"dell\", \"nvidia\", \"sony\", \"polaroid\", \"hp\", \"tp-link\", \"lenovo\", \"linksys\", \"nintendo\", \"philips\", \"canon\", \"panasonic\", \"kingston\", \"hitachi\", \"fermax\", \"asus\", \"xiaomi\", \"nokia\", \"logitech\", \"samsung\", \"motorola\", \"amazfit\", \"altera\", \"cisco\", \"lg\", \"evga\", \"microsoft\", \"philco\", \\\n",
    "          \"western\", \"panasonic\", \"seagate\", \"alienware\", \"thermaltake\", \"sandisk\", \"ibm\", \"compaq\", \"acer\", \"toshiba\", \\\n",
    "          \"belkin\", \"siemens\", \"crucial\", \"fujitsu\", \"d-link\", \"rayovac\", \"steelseries\", \"duracell\", \"benq\", \"hitachi\", \\\n",
    "          \"asrock\", \"zotac\", \"gigabyte\", \"silverstone\", \"blackberry\", \"fujifilm\", \"logisys\", \"kodak\", \"casio\", \"yamaha\"]\n",
    "\n",
    "consulta4 = hiveContext.sql(\"SELECT product_title FROM sales.products\")\n",
    "\n",
    "df = consulta4.select(\"*\").toPandas()\n",
    "\n",
    "marcas_produtos = []\n",
    "\n",
    "for index, row in df.iterrows():\n",
    "   found = 0\n",
    "   for marca in marcas:\n",
    "     nome_produto = row[\"product_title\"]\n",
    "     nome_produto = nome_produto.lower()\n",
    "     if marca in nome_produto:\n",
    "       found = 1\n",
    "       marcas_produtos.append(marca)\n",
    "       break\n",
    "   if found == 0:\n",
    "     marcas_produtos.append(\"unknown\")\n",
    "\n",
    "df[\"marca\"] = marcas_produtos\n",
    "df.to_csv('marcas_produtos.csv', sep= '\\t')\n",
    "\n",
    "marcas = spark.read.csv(\"./marcas_produtos.csv\", sep= '\\t', header=True)\n",
    "marcas.createOrReplaceTempView(\"marcas\")\n",
    "\n",
    "products = hiveContext.sql(\"SELECT * FROM sales.products\")\n",
    "marcas = spark.sql(\"SELECT marca FROM marcas\")\n",
    "\n",
    "from pyspark.sql.window import Window\n",
    "from pyspark.sql.functions import monotonically_increasing_id, row_number\n",
    "w = Window.orderBy(monotonically_increasing_id())\n",
    "\n",
    "products = products.withColumn(\"columnindex\", row_number().over(w))\n",
    "marcas = marcas.withColumn(\"columnindex\", row_number().over(w))\n",
    "\n",
    "productTable = products.join(marcas, \"columnindex\").drop(products.columnindex)\n",
    "productTable.write.mode(\"overwrite\").saveAsTable(\"sales.products_with_brands\")\n",
    "\n",
    "brands = hiveContext.sql(\"SELECT marca, avg(star_average) FROM sales.products_with_brands WHERE \\\n",
    "marca <> 'unknown' GROUP BY marca ORDER BY avg(star_average) DESC\")"
   ]
  },
  {
   "cell_type": "code",
   "execution_count": 40,
   "id": "be891e8d",
   "metadata": {},
   "outputs": [
    {
     "name": "stdout",
     "output_type": "stream",
     "text": [
      "+-----------+-----------------+\n",
      "|      marca|avg(star_average)|\n",
      "+-----------+-----------------+\n",
      "|    rayovac|              5.0|\n",
      "|     altera|4.553571428571428|\n",
      "|    crucial|4.452437510967074|\n",
      "|       evga|4.390014082874379|\n",
      "|   kingston|4.307081524227381|\n",
      "|    sandisk|4.288081357578996|\n",
      "|silverstone| 4.21852950983423|\n",
      "|     yamaha|4.199819051536674|\n",
      "|   fujifilm|4.184492142336977|\n",
      "|      kodak|4.180007634280386|\n",
      "|thermaltake|4.179309089056252|\n",
      "|      casio|4.172671138630891|\n",
      "|      canon|4.170336757822482|\n",
      "|      cisco|4.145100470521573|\n",
      "|    hitachi|4.137024049274133|\n",
      "|       benq|4.134088301070568|\n",
      "|         lg| 4.11455968428097|\n",
      "|      zotac|4.112458918172588|\n",
      "|   logitech|4.091913417095392|\n",
      "|   gigabyte|4.087722502355112|\n",
      "+-----------+-----------------+\n",
      "only showing top 20 rows\n",
      "\n"
     ]
    }
   ],
   "source": [
    "brands.show()"
   ]
  },
  {
   "cell_type": "code",
   "execution_count": null,
   "id": "ea4e4295",
   "metadata": {},
   "outputs": [],
   "source": []
  },
  {
   "cell_type": "code",
   "execution_count": null,
   "id": "fae537c5",
   "metadata": {},
   "outputs": [],
   "source": []
  }
 ],
 "metadata": {
  "kernelspec": {
   "display_name": "Python 3",
   "language": "python",
   "name": "python3"
  },
  "language_info": {
   "codemirror_mode": {
    "name": "ipython",
    "version": 3
   },
   "file_extension": ".py",
   "mimetype": "text/x-python",
   "name": "python",
   "nbconvert_exporter": "python",
   "pygments_lexer": "ipython3",
   "version": "3.6.9"
  }
 },
 "nbformat": 4,
 "nbformat_minor": 5
}
