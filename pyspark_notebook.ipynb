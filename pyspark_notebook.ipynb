{
 "cells": [
  {
   "cell_type": "code",
   "execution_count": 13,
   "id": "55fd4441",
   "metadata": {},
   "outputs": [],
   "source": [
    "import findspark\n",
    "findspark.init()\n",
    "\n",
    "from pyspark import HiveContext\n",
    "\n",
    "from pyspark.sql import SparkSession\n",
    "spark = SparkSession \\\n",
    "    .builder \\\n",
    "    .appName(\"myApp\") \\\n",
    "    .enableHiveSupport() \\\n",
    "    .getOrCreate()\n",
    "\n",
    "hiveContext = HiveContext(spark.sparkContext)"
   ]
  },
  {
   "cell_type": "code",
   "execution_count": 14,
   "id": "971efecf",
   "metadata": {},
   "outputs": [
    {
     "name": "stdout",
     "output_type": "stream",
     "text": [
      "+---------+\n",
      "|namespace|\n",
      "+---------+\n",
      "|  default|\n",
      "|    sales|\n",
      "+---------+\n",
      "\n"
     ]
    }
   ],
   "source": [
    "# Mostra as databases existentes no hive\n",
    "hiveContext.sql(\"SHOW DATABASES\").show()"
   ]
  },
  {
   "cell_type": "code",
   "execution_count": 15,
   "id": "a2855e22",
   "metadata": {},
   "outputs": [
    {
     "name": "stdout",
     "output_type": "stream",
     "text": [
      "root\n",
      " |-- marketplace: string (nullable = true)\n",
      " |-- customer_id: string (nullable = true)\n",
      " |-- review_id: string (nullable = true)\n",
      " |-- product_id: string (nullable = true)\n",
      " |-- product_parent: string (nullable = true)\n",
      " |-- product_title: string (nullable = true)\n",
      " |-- product_category: string (nullable = true)\n",
      " |-- star_rating: string (nullable = true)\n",
      " |-- helpful_votes: string (nullable = true)\n",
      " |-- total_votes: string (nullable = true)\n",
      " |-- vine: string (nullable = true)\n",
      " |-- verified_purchase: string (nullable = true)\n",
      " |-- review_headline: string (nullable = true)\n",
      " |-- review_body: string (nullable = true)\n",
      " |-- review_date: string (nullable = true)\n",
      "\n"
     ]
    }
   ],
   "source": [
    "# Carregando todos os dados\n",
    "df = spark.read.csv(\"../amazon_reviews_us_PC_v1_00.tsv\", sep=r'\\t', header=True)\n",
    "df.createOrReplaceTempView(\"temp\")\n",
    "df.printSchema()"
   ]
  },
  {
   "cell_type": "markdown",
   "id": "d81eeb01",
   "metadata": {},
   "source": [
    "# Criando a tabela de avaliações"
   ]
  },
  {
   "cell_type": "code",
   "execution_count": 16,
   "id": "905daa75",
   "metadata": {},
   "outputs": [
    {
     "name": "stdout",
     "output_type": "stream",
     "text": [
      "+-----------+--------------+----------+-----------+\n",
      "|customer_id|     review_id|product_id|star_rating|\n",
      "+-----------+--------------+----------+-----------+\n",
      "|   22873041|R3ARRMDEGED8RD|B00KJWQIIC|          5|\n",
      "|   30088427| RQ28TSA020Y6J|B013ALA9LA|          5|\n",
      "|   20329786| RUXJRZCT6953M|B00PML2GQ8|          1|\n",
      "|   14215710| R7EO0UO6BPB71|B001NS0OZ4|          1|\n",
      "|   38264512|R39NJY2YJ1JFSV|B00AQMTND2|          5|\n",
      "|   30548466|R31SR7REWNX7CF|B00KX4TORI|          5|\n",
      "|     589298| RVBP8I1R0CTZ8|B00P17WEMY|          3|\n",
      "|   49329488|R1QF6RS1PDLU18|B00TR05L9Y|          4|\n",
      "|   50728290|R23AICGEDAJQL1|B0098Y77OG|          1|\n",
      "|   37802374|R2EY3N4K9W19UP|B00IFYEYXC|          5|\n",
      "|   52027882| RC9AW4HKJ016M|B0091ITP0S|          1|\n",
      "|   41770239|R2ALWJE9N6ZBXD|B008I21EA2|          1|\n",
      "|   42560427|R2G5FPA4OX37GV|B00MRB7SBO|          5|\n",
      "|   46345923|R1IKTSEVXSIMOD|B00LLER2CS|          5|\n",
      "|   41751192|R2YA6G6SRFEWF6|B00B0CQCCC|          1|\n",
      "|   21176481| RS9H1N9I3Z1IA|B00GU8W5AE|          5|\n",
      "|   10674058| RKKLBI76VTDNT|B00XHMXJQ0|          1|\n",
      "|   43341796|R2NJ3WFUS4E5G6|B00YGJJQ6U|          4|\n",
      "|   13232866|R21PTQNLGCBN0I|B00XMN20Y6|          5|\n",
      "|   29333557|R3G4RT3EQ9RSY7|B00MA40W9I|          1|\n",
      "+-----------+--------------+----------+-----------+\n",
      "only showing top 20 rows\n",
      "\n"
     ]
    }
   ],
   "source": [
    "# Review table\n",
    "## customer_id\n",
    "## review_id\n",
    "## product_id\n",
    "## star_rating\n",
    "reviewsTable = spark.sql(\"SELECT customer_id, review_id, product_id, star_rating FROM temp\")\n",
    "\n",
    "# Versão inicial da Review Table sem as transformações\n",
    "reviewsTable.show()"
   ]
  },
  {
   "cell_type": "markdown",
   "id": "4492a209",
   "metadata": {},
   "source": [
    "# Calculando média e medianas de estrelas - Contando o número de avaliações por produto"
   ]
  },
  {
   "cell_type": "code",
   "execution_count": 17,
   "id": "2e13b43d",
   "metadata": {},
   "outputs": [
    {
     "name": "stdout",
     "output_type": "stream",
     "text": [
      "+----------+-----------+------------------+-------------+\n",
      "|product_id|star_median|      star_average|total_reviews|\n",
      "+----------+-----------+------------------+-------------+\n",
      "|9875987018|        4.0|               4.5|            2|\n",
      "|9966285946|        5.0|               5.0|            1|\n",
      "|9966694242|        5.0|               4.6|           10|\n",
      "|9967222247|        5.0|               5.0|            3|\n",
      "|9985538803|        5.0|               5.0|            1|\n",
      "|9985725344|        5.0|               5.0|            1|\n",
      "|9989476071|        5.0|               5.0|            1|\n",
      "|9990950369|        2.0|               2.0|            1|\n",
      "|B00000J3SV|        1.0|               3.0|            2|\n",
      "|B00000JBK6|        5.0| 4.153846153846154|           13|\n",
      "|B00002S73F|        5.0|               3.7|           10|\n",
      "|B00004VV4B|        5.0|               5.0|            1|\n",
      "|B00004YNSK|        5.0|               4.5|            8|\n",
      "|B00004Z7BU|        5.0|               5.0|            1|\n",
      "|B00005045V|        3.0|3.1666666666666665|           12|\n",
      "|B000051156|        1.0|               3.0|            2|\n",
      "|B0000511IB|        3.0|               3.0|            1|\n",
      "|B0000511K8|        1.0|               1.0|            1|\n",
      "|B0000512S1|        3.0|               3.0|            1|\n",
      "|B00005853W|        5.0|3.9545454545454546|           22|\n",
      "+----------+-----------+------------------+-------------+\n",
      "only showing top 20 rows\n",
      "\n"
     ]
    }
   ],
   "source": [
    "# Product table\n",
    "## product_id\n",
    "## product_title\n",
    "## star_avg (CRIAR)\n",
    "## star_median (CRIAR)\n",
    "## total_reviews (CRIAR)\n",
    "\n",
    "# Calcular número total de avaliações por produto\n",
    "# Calcular média de estrelas por produto\n",
    "# Calcular mediana de estrelas por produto\n",
    "\n",
    "productInfos = spark.sql(\"SELECT product_id, percentile_approx(star_rating, 0.5) as star_median, \\\n",
    "avg(star_rating) as star_average, count(product_id) as total_reviews FROM temp GROUP BY product_id\")\n",
    "productInfos.createOrReplaceTempView(\"products\")\n",
    "\n",
    "# Versão inicial da tabela de produtos, ainda com produtos duplicados.\n",
    "productInfos.show()"
   ]
  },
  {
   "cell_type": "markdown",
   "id": "baa7e011",
   "metadata": {},
   "source": [
    "# Removendo linhas duplicadas"
   ]
  },
  {
   "cell_type": "code",
   "execution_count": 19,
   "id": "1522c89c",
   "metadata": {},
   "outputs": [
    {
     "name": "stdout",
     "output_type": "stream",
     "text": [
      "+----------+--------------------+-----------+------------------+-------------+\n",
      "|product_id|       product_title|star_median|      star_average|total_reviews|\n",
      "+----------+--------------------+-----------+------------------+-------------+\n",
      "|9875987018|Professional Ultr...|        4.0|               4.5|            2|\n",
      "|9966285946|Professional King...|        5.0|               5.0|            1|\n",
      "|9966694242|Professional King...|        5.0|               4.6|           10|\n",
      "|9967222247|Professional King...|        5.0|               5.0|            3|\n",
      "|9985538803|Samsung Galaxy St...|        5.0|               5.0|            1|\n",
      "|9985725344|Professional King...|        5.0|               5.0|            1|\n",
      "|9989476071|Professional King...|        5.0|               5.0|            1|\n",
      "|9990950369|Samsung SGH-i780 ...|        2.0|               2.0|            1|\n",
      "|B00000J3SV|Intel ICS2USB Cre...|        1.0|               3.0|            2|\n",
      "|B00000JBK6|    ALTEC ACS SERIES|        5.0| 4.153846153846154|           13|\n",
      "|B00002S73F|Guillemot Maxi So...|        5.0|               3.7|           10|\n",
      "|B00004VV4B|Viking MN1664P 12...|        5.0|               5.0|            1|\n",
      "|B00004YNSK|Sony CPD-E400 19\"...|        5.0|               4.5|            8|\n",
      "|B00004Z7BU|Netgear FE104 100...|        5.0|               5.0|            1|\n",
      "|B00005045V|Ricoh 12x10x32 CD...|        3.0|3.1666666666666665|           12|\n",
      "|B000051156|AT&T Anti-Static ...|        1.0|               3.0|            2|\n",
      "|B0000511IB|Thinkpad TP56850T...|        3.0|               3.0|            1|\n",
      "|B0000511K8|C2G/Cables to Go ...|        1.0|               1.0|            1|\n",
      "|B0000512S1|Allied Telesyn Ce...|        3.0|               3.0|            1|\n",
      "|B00005853W|Microsoft Wheel M...|        5.0|3.9545454545454546|           22|\n",
      "+----------+--------------------+-----------+------------------+-------------+\n",
      "only showing top 20 rows\n",
      "\n"
     ]
    }
   ],
   "source": [
    "# Removendo os produtos duplicados\n",
    "## Em testes foi verificado que o produto com ID = B0049SIJ7K está duplicado duplicado\n",
    "productNames = spark.sql(\"SELECT DISTINCT product_id, product_title FROM temp\")\n",
    "productNames = productNames.dropDuplicates([\"product_id\"])\n",
    "productTable = productNames.join(productInfos, 'product_id')\n",
    "productTable.show()\n",
    "productTable.createOrReplaceTempView(\"products\")"
   ]
  },
  {
   "cell_type": "code",
   "execution_count": 22,
   "id": "b4af2d26",
   "metadata": {},
   "outputs": [
    {
     "name": "stdout",
     "output_type": "stream",
     "text": [
      "+-----------+--------------+----------+-----------+\n",
      "|customer_id|     review_id|product_id|star_rating|\n",
      "+-----------+--------------+----------+-----------+\n",
      "|   10001434|R15PWB2RWMDYY0|B0028QQC0Q|          1|\n",
      "|   10002051|R2FV71G5DAQK2V|B0069ASUBQ|          3|\n",
      "|   10002342|R2X44EUDV89CD0|B00CXAFG72|          5|\n",
      "|   10002911|R2I3W2ZQ7WDNR1|B00HKEI3EY|          5|\n",
      "|   10003679|R3PPUM8GC0P4VV|B00A1AK6EE|          4|\n",
      "|   10003897| RU1J6AWUQDH8A|B000SR120M|          5|\n",
      "|   10004084|R355XMTXY1GOQF|B001SH2AVQ|          5|\n",
      "|   10004974|R236IN0TMKW8F9|B007PTCFFW|          1|\n",
      "|   10006218|R3OJNQVUXB39PW|B00A1EDRR8|          5|\n",
      "|   10006371|R1M16Q84UAFF6L|B00WBCBPDQ|          4|\n",
      "|   10006579|R1VUBMDCR5R9ZS|B000GP844S|          5|\n",
      "|   10007900|R1Q864KE8JGKUZ|B002VJJMSO|          5|\n",
      "|   10008642| RKIHY06FGFBFU|B007C0Y8PY|          5|\n",
      "|   10008821|R3RBBU21WYULB1|B0002K6RK0|          5|\n",
      "|   10010828|R3BQA6G9M6GNYV|B000GHXTBO|          5|\n",
      "|   10011267|R14OH1P4LDYMF0|B00HAHFQL4|          5|\n",
      "|    1001155|R3U5QAC3Z2HX20|B00JRQCNGW|          5|\n",
      "|   10011741|R1MMKZCKE7D47E|B004EWEZM4|          5|\n",
      "|   10011863|R2BWQGN4LWCH11|B005GWQRWM|          3|\n",
      "|   10011948|R2JFTA0IDU7ICZ|B00IIJ6W4S|          1|\n",
      "+-----------+--------------+----------+-----------+\n",
      "only showing top 20 rows\n",
      "\n"
     ]
    }
   ],
   "source": [
    "# Removendo as reviews duplicadas\n",
    "## Em testes foram encontradas 1764 reviews duplicadas\n",
    "reviewsTable = reviewsTable.dropDuplicates([\"customer_id\", \"product_id\", \"star_rating\"])\n",
    "reviewsTable.show()"
   ]
  },
  {
   "cell_type": "markdown",
   "id": "81374ffd",
   "metadata": {},
   "source": [
    "# Salvando os dataframes no Hive"
   ]
  },
  {
   "cell_type": "code",
   "execution_count": 27,
   "id": "c3868101",
   "metadata": {},
   "outputs": [],
   "source": [
    "reviewsTable.write.mode(\"overwrite\").saveAsTable(\"sales.user_reviews\")\n",
    "productTable.write.mode(\"overwrite\").saveAsTable(\"sales.products\")"
   ]
  },
  {
   "cell_type": "code",
   "execution_count": null,
   "id": "772fc90f",
   "metadata": {},
   "outputs": [],
   "source": []
  }
 ],
 "metadata": {
  "kernelspec": {
   "display_name": "Python 3",
   "language": "python",
   "name": "python3"
  },
  "language_info": {
   "codemirror_mode": {
    "name": "ipython",
    "version": 3
   },
   "file_extension": ".py",
   "mimetype": "text/x-python",
   "name": "python",
   "nbconvert_exporter": "python",
   "pygments_lexer": "ipython3",
   "version": "3.6.9"
  }
 },
 "nbformat": 4,
 "nbformat_minor": 5
}
